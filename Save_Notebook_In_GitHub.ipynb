{
  "nbformat": 4,
  "nbformat_minor": 0,
  "metadata": {
    "colab": {
      "name": "Save Notebook In GitHub.ipynb",
      "provenance": [],
      "authorship_tag": "ABX9TyPF5WNTFSFTbtdRot8RbTiN",
      "include_colab_link": true
    },
    "kernelspec": {
      "name": "python3",
      "display_name": "Python 3"
    }
  },
  "cells": [
    {
      "cell_type": "markdown",
      "metadata": {
        "id": "view-in-github",
        "colab_type": "text"
      },
      "source": [
        "<a href=\"https://colab.research.google.com/github/jokoeliyanto/Kelas-Dasar-Pejuang-Data-2.0/blob/main/Save_Notebook_In_GitHub.ipynb\" target=\"_parent\"><img src=\"https://colab.research.google.com/assets/colab-badge.svg\" alt=\"Open In Colab\"/></a>"
      ]
    },
    {
      "cell_type": "code",
      "metadata": {
        "id": "kZBJoda-5z7j"
      },
      "source": [
        "a=10"
      ],
      "execution_count": 1,
      "outputs": []
    }
  ]
}