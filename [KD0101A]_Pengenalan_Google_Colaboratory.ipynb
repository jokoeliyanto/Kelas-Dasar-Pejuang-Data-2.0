{
  "nbformat": 4,
  "nbformat_minor": 0,
  "metadata": {
    "colab": {
      "name": "[KD0101A]-Pengenalan Google Colaboratory",
      "provenance": [],
      "collapsed_sections": [],
      "toc_visible": true,
      "include_colab_link": true
    },
    "kernelspec": {
      "display_name": "Python 3",
      "name": "python3"
    }
  },
  "cells": [
    {
      "cell_type": "markdown",
      "metadata": {
        "id": "view-in-github",
        "colab_type": "text"
      },
      "source": [
        "<a href=\"https://colab.research.google.com/github/jokoeliyanto/Kelas-Dasar-Pejuang-Data-2.0/blob/main/%5BKD0101A%5D_Pengenalan_Google_Colaboratory.ipynb\" target=\"_parent\"><img src=\"https://colab.research.google.com/assets/colab-badge.svg\" alt=\"Open In Colab\"/></a>"
      ]
    },
    {
      "cell_type": "markdown",
      "metadata": {
        "id": "BfXcpbVl5IC0"
      },
      "source": [
        "![alt text](https://drive.google.com/uc?id=1i8cxntez8GCwtVX1azwmkdRRBItGlLR0\n",
        ")"
      ]
    },
    {
      "cell_type": "markdown",
      "metadata": {
        "id": "av1zn-q_SM8I"
      },
      "source": [
        "## Prakata\n",
        "Assalamualaikum warahmatullahi wabarakatuh.\n",
        "\n",
        "Robbi zidni ilma warzuqni fahma\n",
        "Aamiin\n",
        "\n",
        "***Ini adalah file notebook colab pertama kamu.***\n",
        "\n",
        "Dalam notebook ini kamu bisa menemukan review lengkap dan singkat dari google colaboratory itu sendiri."
      ]
    },
    {
      "cell_type": "markdown",
      "metadata": {
        "id": "5fCEDCU_qrC0"
      },
      "source": [
        "# <p><img alt=\"Colaboratory logo\" height=\"45px\" src=\"/img/colab_favicon.ico\" align=\"left\" hspace=\"10px\" vspace=\"0px\"></p>\n",
        "\n",
        "<h1>Apa itu Google Colaboratory?</h1>\n",
        "\n",
        "Colaboratory, disingkat \"Colab\", memungkinkan Kamu menulis dan mengeksekusi Python di browser Kamu dengan beberapa keuntungan berikut:\n",
        "- Tidak memerlukan konfigurasi(no instal2)\n",
        "- Akses gratis ke GPU\n",
        "- Berbagi dengan mudah\n"
      ]
    },
    {
      "cell_type": "markdown",
      "metadata": {
        "id": "GJBs_flRovLc"
      },
      "source": [
        "## Mari mulai belajar\n",
        "\n",
        "Dokumen yang sedang Kamu baca bukan halaman statis. Ini media interaktif bernama <strong>notebook Colab</strong> yang memungkinkan Kamu menulis dan mengeksekusi kode.\n",
        "\n",
        "Misalnya, berikut ini <strong>kode sel</strong> dengan skrip Python pendek yang mengomputasi sebuah nilai, menyimpannya dalam suatu variabel, dan mencetak hasilnya:"
      ]
    },
    {
      "cell_type": "code",
      "metadata": {
        "colab": {
          "base_uri": "https://localhost:8080/"
        },
        "id": "gJr_9dXGpJ05",
        "outputId": "e6f77423-6744-4ad2-a9c8-cdbd4a90f4b0"
      },
      "source": [
        "jumlah_detik_sehari = 24 * 60 * 60\n",
        "jumlah_detik_sehari"
      ],
      "execution_count": null,
      "outputs": [
        {
          "output_type": "execute_result",
          "data": {
            "text/plain": [
              "86400"
            ]
          },
          "metadata": {
            "tags": []
          },
          "execution_count": 1
        }
      ]
    },
    {
      "cell_type": "markdown",
      "metadata": {
        "id": "2fhs6GZ4qFMx"
      },
      "source": [
        "Untuk mengeksekusi kode dalam sel di atas, pilih kode tersebut dengan mengkliknya, kemudian tekan tombol **play** di sebelah kiri kode atau gunakan pintasan keyboard \"trl+Enter\". Untuk mengedit kode, cukup klik sel dan mulai pengeditan.\n",
        "\n",
        "Variabel yang Kamu tentukan dalam sebuah sel nantinya dapat digunakan di sel lain(sudah tersimpan):"
      ]
    },
    {
      "cell_type": "code",
      "metadata": {
        "colab": {
          "base_uri": "https://localhost:8080/"
        },
        "id": "-gE-Ez1qtyIA",
        "outputId": "2a7be300-299e-41d4-c94b-ffb75a10c9c0"
      },
      "source": [
        "jumlah_detik_seminggu = 7 * jumlah_detik_sehari\n",
        "jumlah_detik_seminggu"
      ],
      "execution_count": null,
      "outputs": [
        {
          "output_type": "execute_result",
          "data": {
            "text/plain": [
              "604800"
            ]
          },
          "metadata": {
            "tags": []
          },
          "execution_count": 2
        }
      ]
    },
    {
      "cell_type": "markdown",
      "metadata": {
        "id": "30MC4nCV3B2y"
      },
      "source": [
        "## Sel\n",
        "Buku catatan adalah daftar sel. \n",
        "Sel berisi teks ***penjelasan*** atau ***kode*** yang dapat dieksekusi dan keluarannya. Klik sel untuk memilihnya.\n",
        "\n"
      ]
    },
    {
      "cell_type": "markdown",
      "metadata": {
        "id": "y90YUvku3rQE"
      },
      "source": [
        "## Sel kode\n",
        "Di bawah ini adalah ** sel kode **. Setelah tombol toolbar menunjukkan TERHUBUNG, klik di dalam sel untuk memilihnya dan menjalankan isinya dengan cara berikut:\n",
        "\n",
        "* Klik **tombol Play** di sebelah kiri sel;\n",
        "* Ketik **Ctrl + Enter** untuk menjalankan sel yang ditunjuk;\n",
        "* Ketik **Shift + Enter** untuk menjalankan sel dan memindahkan fokus ke sel berikutnya (menambahkan satu jika tidak ada); atau\n",
        "* Ketik **Alt + Enter** untuk menjalankan sel dan memasukkan sel kode baru tepat di bawahnya.\n",
        "\n",
        "Ada opsi tambahan untuk menjalankan beberapa atau semua sel di menu **Runtime**."
      ]
    },
    {
      "cell_type": "code",
      "metadata": {
        "colab": {
          "base_uri": "https://localhost:8080/"
        },
        "id": "fngWL84L3ARr",
        "outputId": "65788b0c-ef02-4db7-bfd3-c9c26aa00e9d"
      },
      "source": [
        "a = 10\n",
        "a"
      ],
      "execution_count": null,
      "outputs": [
        {
          "output_type": "execute_result",
          "data": {
            "text/plain": [
              "10"
            ]
          },
          "metadata": {
            "tags": []
          },
          "execution_count": 3
        }
      ]
    },
    {
      "cell_type": "markdown",
      "metadata": {
        "id": "CmXcVdx_4S-_"
      },
      "source": [
        "## Sel teks\n",
        "Ini adalah **sel teks**. Anda dapat **mengklik dua kali** untuk mengedit sel ini. Sel teks\n",
        "gunakan sintaks penurunan harga. Untuk mempelajari lebih lanjut, lihat [panduan markdown](/notebooks/markdown_guide.ipynb).\n",
        "\n",
        "Anda juga dapat menambahkan matematika ke sel teks menggunakan [LaTeX] (http://www.latex-project.org/)\n",
        "akan dirender oleh [MathJax] (https://www.mathjax.org). Tempatkan saja pernyataannya\n",
        "dalam sepasang tanda **\\$** . Misalnya `$\\sqrt {3x-1} +(1+x)^2$` menjadi\n",
        "$\\sqrt{3x-1}+(1+x)^2$"
      ]
    },
    {
      "cell_type": "markdown",
      "metadata": {
        "id": "PTzdndUxdu-3"
      },
      "source": [
        "## Menambah dan memindahkan sel\n",
        "Anda dapat menambahkan sel baru dengan menggunakan tombol **+ CODE** dan **+ TEXT** yang ditampilkan saat Anda mengarahkan kursor di antara sel. Tombol-tombol ini juga ada di bilah alat di atas buku catatan tempat mereka dapat digunakan untuk menambahkan sel di bawah sel yang saat ini dipilih.\n",
        "\n",
        "Anda dapat memindahkan sel dengan memilihnya dan mengklik **Cell Up** atau **Cell Down** di toolbar bagian atas.\n",
        "\n",
        "Sel berurutan dapat dipilih dengan \"pemilihan laso\" dengan menyeret dari luar satu sel dan melalui grup. Sel yang tidak bersebelahan dapat dipilih secara bersamaan dengan mengklik satu sel lalu menahan Ctrl sambil mengklik yang lain. Demikian pula, menggunakan Shift sebagai ganti Ctrl akan memilih semua sel perantara."
      ]
    },
    {
      "cell_type": "markdown",
      "metadata": {
        "id": "UdRyKR44dcNI"
      },
      "source": [
        "## Data Sains\n",
        "\n",
        "Dengan Colab, Kamu dapat memanfaatkan kecanggihan library Python yang populer untuk menganalisis dan memvisualisasikan data. Sel kode di bawah menggunakan <strong>numpy</strong> untuk menghasilkan beberapa data acak, dan menggunakan <strong>matplotlib</strong> untuk memvisualisasikannya. Untuk mengedit kode, cukup klik sel dan mulai pengeditan."
      ]
    },
    {
      "cell_type": "code",
      "metadata": {
        "colab": {
          "base_uri": "https://localhost:8080/",
          "height": 281
        },
        "id": "C4HZx7Gndbrh",
        "outputId": "63eb8dcc-d42f-4b8f-81b5-022f13164c55"
      },
      "source": [
        "import numpy as np\n",
        "from matplotlib import pyplot as plt\n",
        "\n",
        "ys = 200 + np.random.randn(100)\n",
        "x = [x for x in range(len(ys))]\n",
        "\n",
        "plt.plot(x, ys, '-')\n",
        "plt.fill_between(x, ys, 195, where=(ys > 195), facecolor='g', alpha=0.6)\n",
        "\n",
        "plt.title(\"Contoh Visualisasi\")\n",
        "plt.show()"
      ],
      "execution_count": null,
      "outputs": [
        {
          "output_type": "display_data",
          "data": {
            "image/png": "[encoded data removed]",
            "text/plain": [
              "<Figure size 432x288 with 1 Axes>"
            ]
          },
          "metadata": {
            "tags": [],
            "needs_background": "light"
          }
        }
      ]
    },
    {
      "cell_type": "markdown",
      "metadata": {
        "id": "4_kCnsPUqS6o"
      },
      "source": [
        "Kamu dapat mengimpor data sendiri ke notebook Colab dari akun Google Drive Kamu, termasuk dari spreadsheet, GitHub, dan berbagai sumber lainnya. Untuk mempelajari lebih lanjut pengimporan data dan bagaimana Colab dapat digunakan untuk ilmu data, lihat link di bawah pada bagian <a href=\"#working-with-data\">Bekerja dengan Data</a>."
      ]
    },
    {
      "cell_type": "markdown",
      "metadata": {
        "id": "OwuxHmxllTwN"
      },
      "source": [
        "## Machine learning\n",
        "\n",
        "Dengan Colab Kamu dapat mengimpor set data gambar, melatih pengklasifikasi gambar pada gambar tersebut, dan mengevaluasi model, semuanya hanya dengan <a href=\"https://colab.research.google.com/github/tensorflow/docs/blob/master/site/en/tutorials/quickstart/beginner.ipynb\">beberapa baris kode</a>. Notebook Colab mengeksekusi kode pada server cloud Google. Itu artinya Kamu dapat memanfaatkan kecanggihan hardware Google, termasuk <a href=\"#using-accelerated-hardware\">GPU dan TPU</a>, terlepas dari mesin yang Kamu gunakan. Yang Kamu butuhkan hanyalah browser."
      ]
    },
    {
      "cell_type": "markdown",
      "metadata": {
        "id": "ufxBm1yRnruN"
      },
      "source": [
        "Colab digunakan secara luas di komunitas machine learning dengan berbagai penerapan meliputi:\n",
        "- Memulai TensorFlow\n",
        "- Mengembangkan dan melatih jaringan neural\n",
        "- Bereksperimen dengan TPU\n",
        "- Menyebarkan riset AI\n",
        "- Membuat tutorial"
      ]
    },
    {
      "cell_type": "markdown",
      "metadata": {
        "id": "-Rh3-Vt9Nev9"
      },
      "source": [
        "## Referensi\n",
        "- [Selamat Datang di Colaboratory](/notebooks/intro.ipynb)\n",
        "- [Ringkasan Colaboratory](/notebooks/basic_features_overview.ipynb)"
      ]
    }
  ]
}